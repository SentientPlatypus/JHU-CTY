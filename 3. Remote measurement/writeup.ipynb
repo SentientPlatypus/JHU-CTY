{
 "cells": [
  {
   "attachments": {},
   "cell_type": "markdown",
   "metadata": {},
   "source": [
    "# Remote measurements\n",
    "> By Geneustace Wicaksono, Akul Mittal, Cody Shao\n",
    "\n",
    "Given 2 metersticks and a rope, determine the distance between the tips of Gillman hall and Schryver hall at JHU"
   ]
  },
  {
   "cell_type": "code",
   "execution_count": 55,
   "metadata": {},
   "outputs": [],
   "source": [
    "import math\n",
    "import numpy as np\n",
    "import pandas as pd\n",
    "d1 = 81.25 #a\n",
    "h1 = 0.59 #h\n",
    "\n",
    "d2 = 26 #b\n",
    "h2 = 1.14 #j\n",
    "theta = 0.898408232 #o RADIANSSSS\n",
    "\n",
    "d3 = 201.5 #c\n",
    "\n",
    "gap = 6.06 #g"
   ]
  },
  {
   "attachments": {},
   "cell_type": "markdown",
   "metadata": {},
   "source": [
    "## Calculations:\n"
   ]
  },
  {
   "cell_type": "code",
   "execution_count": 56,
   "metadata": {},
   "outputs": [
    {
     "name": "stdout",
     "output_type": "stream",
     "text": [
      "calculated distance: 247.558m\n"
     ]
    }
   ],
   "source": [
    "gillmanh = d1 + h1\n",
    "\n",
    "schiverh = d2 * math.tan(theta) + h2\n",
    "\n",
    "groundDistance = math.sqrt(d1 ** 2 + (d2 + d3) **2)\n",
    "\n",
    "finalDistance = math.sqrt(groundDistance **2 + (gillmanh + gap - schiverh)**2)\n",
    "\n",
    "print(f\"calculated distance: {finalDistance:.3f}m\")"
   ]
  },
  {
   "attachments": {},
   "cell_type": "markdown",
   "metadata": {},
   "source": [
    "## Error\n",
    "When deciding on an estimated error, we looked at how the measurements were made. When manually measuring a length, such as the distance on the x-axis from Shriver to the perpendicular of Gilman, there was much more room for error than when measuring something mathematically, like the height of Shriver Hall. Therefore, we decided on higher margins of error for these measurements.\n",
    "\n",
    "If we were to redo the lab, we only change the method through which we measured the height of Gilman Hall. Instead of creating a pre-determined angle with meter sticks, we should have used a small similar triangle to determine the angle, and as such, height. This method was used for Shriver Hall and worked great, which is why we should have measured Gillman using the same method. \n",
    "\n",
    "However, it is what it is. Lets calculate how our error propagated.\n",
    "based off our drawing, we our final measurement between the distance of the tips of Gillman hall and Schryver hall is represented as:\n",
    "$$f({d_1}, h_1, {d_1}, \\theta_2, h_2, d_3, g) = \\sqrt{{{d_1}}^2 + ({d_2} + d_3)^2 + \\left(({d_1}+h_1 + g) - ({d_2}\\tan \\theta_2 + h_2)\\right)^2}$$\n",
    "And our estimated errors in each mesurement is as follows:\n",
    "1. ${d_1} \\pm 1m$\n",
    "2. $h_1 \\pm .05m$\n",
    "3. ${d_2} \\pm 0.5m$\n",
    "4. $\\theta_2 \\pm 8.2 \\degree$\n",
    "5. $h_2 \\pm .05m$\n",
    "6. $d_3 \\pm 4.5m$\n",
    "7. $g \\pm .05m$\n",
    "\n",
    "So our error is expected to be the the sum of these partial differentials:\n",
    "$$DF = \\frac{\\partial F}{\\partial {d_1}}dd_g + \\frac{\\partial F}{\\partial h_1}dh_g + \\frac{\\partial F}{\\partial {d_2}}dd_s + \\frac{\\partial F}{\\partial \\theta_2}d\\theta_2 + \\frac{\\partial F}{\\partial h_2}dh_2 + \\frac{\\partial F}{\\partial d_3}dd_3+ \\frac{\\partial F}{\\partial g}dg$$\n",
    "\n",
    "Here are the partial derivatives (I used wolfram alpha, Im not doing each of them by hand):\n",
    "\n",
    "$$\\frac{\\partial F}{\\partial {d_1}} = \\frac{2({d_1} - {d_2}\\tan(\\theta) + g + h_1 - h_2) + 2{d_1}}{2\\sqrt{{d_1}^2 + ({d_1} - {d_2}\\tan(\\theta) + g + h_1 - h_2)^2 + ({d_2} + c)^2}}$$\n",
    "$$\\frac{\\partial F}{\\partial {d_2}}= \\frac{2({d_2}+c)-2\\tan(\\it{o})({d_1}-{d_2}\\tan(\\it{o})+g+h_1-h_2)}{2\\sqrt{{d_1}^2+({d_1}-{d_2}\\tan(\\it{o})+g+h_1-h_2)^2+({d_2}+c)^2}}$$\n",
    "$$\\frac{\\partial F}{\\partial d_3} = \\frac{{d_2}+c}{\\sqrt{{d_1}^2 + ({d_1} - {d_2} \\tan(\\theta) + g + h_1 - h_2)^2 + ({d_2}+c)^2}}$$\n",
    "\n",
    "$$\\frac{\\partial F}{\\partial h_1} = \\frac{{d_1} - {d_2}\\tan{\\left(o\\right)} + g + h_1 - h_2}{\\sqrt{{d_1}^2 + \\left({d_1} - {d_2}\\tan{\\left(o\\right)} + g + h_1 - h_2\\right)^2 + \\left({d_2} + c\\right)^2}}$$\n",
    "$$\\frac{\\partial F}{\\partial h_2} = -\\frac{{d_1} - {d_2}\\tan{\\theta} + g + h_1 - h_2}{\\sqrt{{d_1}^2 + ({d_1} - {d_2}\\tan{\\theta} + g + h_1 - h_2)^2 + ({d_2} + c)^2}}$$\n",
    "\n",
    "$$\\frac{\\partial F}{\\partial \\theta_2} = -\\frac{{d_2} \\sec^2(o)({d_1} - {d_2} \\tan(o) + g + h_1 - h_2)}{\\sqrt{{d_1}^2 + ({d_1} - {d_2} \\tan(o) + g + h_1 - h_2)^2 + ({d_2} + c)^2}}$$\n",
    "\n",
    "$$\\frac{\\partial F}{\\partial g} = \\frac{{d_1} - {d_2}\\tan{\\left (o \\right )} + g + h_1 - h_2}{\\sqrt{{d_1}^2 + \\left ({d_1} - {d_2}\\tan{\\left (o \\right )} + g + h_1 - h_2 \\right )^2 + \\left ({d_2} + c \\right )^2}}$$\n",
    "\n",
    "So multiply each differential by the tolerances, and add them up.\n"
   ]
  },
  {
   "cell_type": "code",
   "execution_count": 57,
   "metadata": {},
   "outputs": [],
   "source": [
    "partialD1 = (2 * (d1 - d2 * math.tan(theta) + gap + h1 - h2) + 2 *d1)/(2 * math.sqrt(d1**2 + (d1 - d2 * math.tan(theta) + gap + h1 - h2)**2 + (d2 + d3)**2))\n",
    "partialD2 = (2 *(d2 + d3) - 2 * math.tan(theta) *(d1 - d2 * math.tan(theta) + gap + h1 - h2))/(2 *math.sqrt(d1**2 + (d1 - d2 * math.tan(theta) + gap + h1 - h2)**2 + (d2 + d3)**2))\n",
    "partialD3 = (d2 + d3)/math.sqrt(d1**2 + (d1 - d2 * math.tan(theta) + gap + h1 - h2)**2 + (d2 + d3)**2)\n",
    "partialH1 = (d1 - d2 * math.tan(theta) + gap + h1 - h2)/math.sqrt(d1**2 + (d1 - d2 * math.tan(theta) + gap + h1 - h2)**2 + (d2 + d3)**2)\n",
    "partialH2 = -(d1 - d2 * math.tan(theta) + gap + h1 - h2)/math.sqrt(d1**2 + (d1 - d2 * math.tan(theta) + gap + h1 - h2)**2 + (d2 + d3)**2)\n",
    "partialGap = (d1 - d2 * math.tan(theta) + gap + h1 - h2)/math.sqrt(d1**2 + (d1 - d2 * math.tan(theta) + gap + h1 - h2)**2 + (d2 + d3)**2)\n",
    "partialTheta =-(d2 /(math.cos(theta)**2) *(d1 - d2 * math.tan(theta) + gap + h1 - h2))/math.sqrt(d1**2 + (d1 - d2 * math.tan(theta) + gap + h1 - h2)**2 + (d2 + d3)**2)\n",
    "\n",
    "partialderivatives = np.array([\n",
    "    partialD1,\n",
    "    partialD2,\n",
    "    partialD3,\n",
    "    partialH1,\n",
    "    partialH2,\n",
    "    partialGap,\n",
    "    partialTheta\n",
    "])"
   ]
  },
  {
   "attachments": {},
   "cell_type": "markdown",
   "metadata": {},
   "source": [
    "Now we can multiply these differentials by our tolerances. "
   ]
  },
  {
   "cell_type": "code",
   "execution_count": 58,
   "metadata": {},
   "outputs": [
    {
     "name": "stdout",
     "output_type": "stream",
     "text": [
      "Final error: 4.504m\n"
     ]
    }
   ],
   "source": [
    "d1Tolerance = 1.0 #a\n",
    "h1Tolerance = 0.05 #h\n",
    "\n",
    "d2Tolerance = 0.5 #b\n",
    "h2Tolerance = 0.05 #j\n",
    "thetaTolerance = 0.0349066 #o RADIANS AGAIN\n",
    "\n",
    "d3Tolerance = 4.5 #c\n",
    "\n",
    "gapTolerance = .05 #g\n",
    "\n",
    "tolerances = np.array([\n",
    "    d1Tolerance,\n",
    "    d2Tolerance,\n",
    "    d3Tolerance,\n",
    "    h1Tolerance,\n",
    "    h2Tolerance,\n",
    "    gapTolerance,\n",
    "    thetaTolerance\n",
    "])\n",
    "\n",
    "\n",
    "final_err = partialderivatives.dot(tolerances)\n",
    "print(f\"Final error: {final_err:.3f}m\")"
   ]
  }
 ],
 "metadata": {
  "kernelspec": {
   "display_name": "Python 3",
   "language": "python",
   "name": "python3"
  },
  "language_info": {
   "codemirror_mode": {
    "name": "ipython",
    "version": 3
   },
   "file_extension": ".py",
   "mimetype": "text/x-python",
   "name": "python",
   "nbconvert_exporter": "python",
   "pygments_lexer": "ipython3",
   "version": "3.9.5"
  },
  "orig_nbformat": 4
 },
 "nbformat": 4,
 "nbformat_minor": 2
}
