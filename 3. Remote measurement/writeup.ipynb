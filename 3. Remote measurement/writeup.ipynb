{
 "cells": [
  {
   "attachments": {},
   "cell_type": "markdown",
   "metadata": {},
   "source": [
    "# Remote measurements\n",
    "\n",
    "> Given 2 metersticks and a rope, determine the distance between the tips of Gillman hall and Schryver hall at JHU"
   ]
  }
 ],
 "metadata": {
  "language_info": {
   "name": "python"
  },
  "orig_nbformat": 4
 },
 "nbformat": 4,
 "nbformat_minor": 2
}
