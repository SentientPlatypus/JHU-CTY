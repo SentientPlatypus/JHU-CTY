{
 "cells": [
  {
   "cell_type": "code",
   "execution_count": 26,
   "metadata": {},
   "outputs": [],
   "source": [
    "import pandas as pd\n",
    "import numpy as np\n",
    "import matplotlib.pyplot as plt"
   ]
  },
  {
   "cell_type": "code",
   "execution_count": 27,
   "metadata": {},
   "outputs": [
    {
     "data": {
      "text/html": [
       "<div>\n",
       "<style scoped>\n",
       "    .dataframe tbody tr th:only-of-type {\n",
       "        vertical-align: middle;\n",
       "    }\n",
       "\n",
       "    .dataframe tbody tr th {\n",
       "        vertical-align: top;\n",
       "    }\n",
       "\n",
       "    .dataframe thead th {\n",
       "        text-align: right;\n",
       "    }\n",
       "</style>\n",
       "<table border=\"1\" class=\"dataframe\">\n",
       "  <thead>\n",
       "    <tr style=\"text-align: right;\">\n",
       "      <th></th>\n",
       "      <th>Gillman</th>\n",
       "      <th>Shiver</th>\n",
       "      <th>Distance</th>\n",
       "    </tr>\n",
       "  </thead>\n",
       "  <tbody>\n",
       "    <tr>\n",
       "      <th>count</th>\n",
       "      <td>6.000000</td>\n",
       "      <td>6.000000</td>\n",
       "      <td>6.000000</td>\n",
       "    </tr>\n",
       "    <tr>\n",
       "      <th>mean</th>\n",
       "      <td>46.734333</td>\n",
       "      <td>28.496667</td>\n",
       "      <td>240.260000</td>\n",
       "    </tr>\n",
       "    <tr>\n",
       "      <th>std</th>\n",
       "      <td>17.514959</td>\n",
       "      <td>3.439388</td>\n",
       "      <td>15.742578</td>\n",
       "    </tr>\n",
       "    <tr>\n",
       "      <th>min</th>\n",
       "      <td>34.910000</td>\n",
       "      <td>24.300000</td>\n",
       "      <td>227.200000</td>\n",
       "    </tr>\n",
       "    <tr>\n",
       "      <th>25%</th>\n",
       "      <td>38.675000</td>\n",
       "      <td>26.372500</td>\n",
       "      <td>228.187500</td>\n",
       "    </tr>\n",
       "    <tr>\n",
       "      <th>50%</th>\n",
       "      <td>40.065000</td>\n",
       "      <td>27.925000</td>\n",
       "      <td>235.435000</td>\n",
       "    </tr>\n",
       "    <tr>\n",
       "      <th>75%</th>\n",
       "      <td>44.002000</td>\n",
       "      <td>30.362500</td>\n",
       "      <td>246.875000</td>\n",
       "    </tr>\n",
       "    <tr>\n",
       "      <th>max</th>\n",
       "      <td>81.840000</td>\n",
       "      <td>33.800000</td>\n",
       "      <td>267.030000</td>\n",
       "    </tr>\n",
       "  </tbody>\n",
       "</table>\n",
       "</div>"
      ],
      "text/plain": [
       "         Gillman     Shiver    Distance\n",
       "count   6.000000   6.000000    6.000000\n",
       "mean   46.734333  28.496667  240.260000\n",
       "std    17.514959   3.439388   15.742578\n",
       "min    34.910000  24.300000  227.200000\n",
       "25%    38.675000  26.372500  228.187500\n",
       "50%    40.065000  27.925000  235.435000\n",
       "75%    44.002000  30.362500  246.875000\n",
       "max    81.840000  33.800000  267.030000"
      ]
     },
     "execution_count": 27,
     "metadata": {},
     "output_type": "execute_result"
    }
   ],
   "source": [
    "data = pd.DataFrame()\n",
    "data = data.append({\"Gillman\": 34.91, \"Shiver\":28.63, \"Distance\": 227.96}, ignore_index=True)\n",
    "data = data.append({\"Gillman\": 38.4, \"Shiver\":24.3, \"Distance\": 227.2}, ignore_index=True)\n",
    "data = data.append({\"Gillman\": 39.5, \"Shiver\":26.09, \"Distance\": 267.03}, ignore_index=True)\n",
    "data = data.append({\"Gillman\": 40.63, \"Shiver\":27.22, \"Distance\": 242}, ignore_index=True)\n",
    "data = data.append({\"Gillman\": 45.126, \"Shiver\":33.8, \"Distance\": 248.5}, ignore_index=True)\n",
    "data = data.append({\"Gillman\": 81.84, \"Shiver\":30.94, \"Distance\": 228.87}, ignore_index=True)\n",
    "data\n",
    "\n",
    "\n",
    "data.describe()"
   ]
  },
  {
   "cell_type": "code",
   "execution_count": 38,
   "metadata": {},
   "outputs": [
    {
     "name": "stdout",
     "output_type": "stream",
     "text": [
      "R-squared: 0.9841128467414851\n",
      "yhat = 0.67 * x + 1.28\n"
     ]
    },
    {
     "data": {
      "image/png": "[encoded data removed]",
      "text/plain": [
       "<Figure size 432x288 with 1 Axes>"
      ]
     },
     "metadata": {
      "needs_background": "light"
     },
     "output_type": "display_data"
    },
    {
     "name": "stdout",
     "output_type": "stream",
     "text": [
      "[0.67342466 1.2769863 ]\n"
     ]
    }
   ],
   "source": [
    "x = [.5, 1, 2, 3, 4, 5]\n",
    "y = [1.4, 2, 2.8, 3.4, 4, 4.5]\n",
    "\n",
    "coeffs = np.polyfit(x, y, deg=1)\n",
    "ranges = np.linspace(0, 10, 10)\n",
    "# Extract the slope and intercept from the coefficients\n",
    "slope = coeffs[0]\n",
    "intercept = coeffs[1]\n",
    "\n",
    "\n",
    "mean_y = np.mean(y)\n",
    "\n",
    "# Calculate the total sum of squares (SST)\n",
    "sst = np.sum((y - mean_y) ** 2)\n",
    "\n",
    "# Calculate the sum of squares of residuals (SSE)\n",
    "sse = np.sum((y - np.polyval(coeffs, x)) ** 2)\n",
    "r_squared = 1 - (sse / sst)\n",
    "\n",
    "print(\"R-squared:\", r_squared)\n",
    "# Create the equation string\n",
    "equation = f\"yhat = {slope:.2f} * x + {intercept:.2f}\"\n",
    "print(equation)\n",
    "\n",
    "\n",
    "plt.scatter(x, y, color = \"red\")\n",
    "plt.plot(ranges, np.polyval(coeffs, ranges), color = \"blue\")\n",
    "plt.text(1, 6, equation)\n",
    "plt.show()\n",
    "print(coeffs)"
   ]
  },
  {
   "cell_type": "code",
   "execution_count": 29,
   "metadata": {},
   "outputs": [
    {
     "data": {
      "text/plain": [
       "[<matplotlib.lines.Line2D at 0x183aab03f70>]"
      ]
     },
     "execution_count": 29,
     "metadata": {},
     "output_type": "execute_result"
    },
    {
     "data": {
      "image/png": "[encoded data removed]",
      "text/plain": [
       "<Figure size 432x288 with 1 Axes>"
      ]
     },
     "metadata": {
      "needs_background": "light"
     },
     "output_type": "display_data"
    }
   ],
   "source": [
    "residuals = np.array(y) - np.polyval(coeffs, x)\n",
    "plt.scatter(x, residuals, color = \"red\")\n",
    "plt.plot(ranges, np.polyval(np.array([0, 0]), ranges), color = \"blue\")"
   ]
  }
 ],
 "metadata": {
  "kernelspec": {
   "display_name": "Python 3",
   "language": "python",
   "name": "python3"
  },
  "language_info": {
   "codemirror_mode": {
    "name": "ipython",
    "version": 3
   },
   "file_extension": ".py",
   "mimetype": "text/x-python",
   "name": "python",
   "nbconvert_exporter": "python",
   "pygments_lexer": "ipython3",
   "version": "3.9.5"
  },
  "orig_nbformat": 4
 },
 "nbformat": 4,
 "nbformat_minor": 2
}
