{
 "cells": [
  {
   "attachments": {},
   "cell_type": "markdown",
   "metadata": {},
   "source": [
    "# Spaghetti bridge\n",
    "\n",
    "> By Geneustace Wicaksono, Akul Mittal, Colton Allman-Bendall, Aaron Shefter\n",
    "\n",
    "We will make a bridge made out of spaghetti, glue, epoxy and resin. The total weight of thie bridge is 350g. Weight will be added via an eyebolt. The weight of the eyebolt will not be part of the weighing. The bridge must also be at least 5cm in width to support a toy car moving across it. The length is 50cm."
   ]
  }
 ],
 "metadata": {
  "language_info": {
   "name": "python"
  },
  "orig_nbformat": 4
 },
 "nbformat": 4,
 "nbformat_minor": 2
}
